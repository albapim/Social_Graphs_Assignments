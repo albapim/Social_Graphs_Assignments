{
 "cells": [
  {
   "cell_type": "markdown",
   "metadata": {},
   "source": [
    "# Formalia:\n",
    "\n",
    "Please read the [assignment overview page](https://github.com/suneman/socialgraphs2025/wiki/Assignments) carefully before proceeding. This page contains information about formatting (including formats etc), group sizes, and many other aspects of handing in the assignment. \n",
    "\n",
    "_If you fail to follow these simple instructions, it will negatively impact your grade!_\n",
    "\n",
    "**Due date and time**: The assignment is due on Tuesday September 30th, 2025 at 23:55. Hand in your IPython notebook file (with extension `.ipynb`) via DTU Learn"
   ]
  },
  {
   "cell_type": "markdown",
   "metadata": {},
   "source": [
    "# Assignment 1.1: Exploring WS and BA models\n",
    "\n",
    "This first part draws on the Watts-Stogatz and Barabasi-Albert models from Week 3. You should provide solutions to the exercises with the following titles from **Part 1** \n",
    "\n",
    "* *Did you really read the text? Answer the following questions (no calculations needed) in your IPython notebook*\n"
   ]
  },
  {
   "cell_type": "markdown",
   "metadata": {},
   "source": [
    "<span style=\"color:#4DA6FF\">\n",
    "\n",
    "* **What's the problem with random networks as a model for real-world networks according to the argument in section 3.5 (near the end)?**\n",
    "\n",
    "A problem with random networks as a model for real-world networks, according to section 3.5, is that in a large random network, the degree of most nodes is close to the average degree (‹k›), while in real-world networks, node degrees can vary much more widely.\n",
    "\n",
    "The degree of a node in a network refers to the number of links it has to other nodes. In large random networks, node degrees follow a Poisson distribution, with a peak at ‹k›. This means that most nodes have degrees close to ‹k›, so the variability in node degrees is relatively small. In contrast, real-world networks often include nodes with very high degrees and others with very low degrees. For example, in a social network, some individuals may be highly connected, while others are more isolated.\n",
    "\n",
    "* **List the four regimes that characterize random networks as a function of $\\langle k \\rangle$.**\n",
    "\n",
    "Four different regimes can be distinguished in a random network as $\\langle k \\rangle$ changes:\n",
    "\n",
    "1.\tSubcritical regime: $0 < \\langle k \\rangle < 1$.\n",
    "If $\\langle k \\rangle = 0$, all nodes in the network are isolated. As $\\langle k \\rangle$ increases (but remains below 1), small clusters begin to form, but not all nodes are connected. Therefore, in this regime, we only observe small, disconnected clusters.\n",
    "\n",
    "2.\tCritical regime: $\\langle k \\rangle = 1$.\n",
    "This is the critical point that separates the regime without a giant component from the one where a giant component emerges. At this point, clusters are still too small to be considered a true giant component.\n",
    "\n",
    "3.\tSupercritical regime: $\\langle k \\rangle > 1$.\n",
    "In this regime, a giant component exists. The further $\\langle k \\rangle$ increases above 1, the larger this giant component becomes. It coexists with other small, isolated components. This regime is the most relevant for modeling real systems.\n",
    "\n",
    "4.\tConnected regime: $\\langle k \\rangle > \\ln N$.\n",
    "In this regime, almost all nodes are connected, forming a single connected network. As $\\langle k \\rangle$ increases further, the network becomes denser, and it turns into a complete graph only when $\\langle k \\rangle = N - 1$.\n",
    "\n",
    "In summary, the random network model shows that network formation is not gradual. For small ‹k› we see isolated nodes and small clusters, but at a critical point they suddenly start merging into a giant component.\n",
    "\n",
    "* **According to the book, why is it a problem for random networks (in terms of being a model for real-world networks) that the degree-dependent clustering $C(k)$ decreases as a function of $k$ in real-world networks?**\n",
    "\n",
    "In a random network the local clustering coefficient is independent of the node’s degree and ‹C› depends on the system size as 1/N. In contrast, measurements indicate that for real networks C(k) decreases with the node degrees and is largely independent of the system size.\n",
    "\n",
    "The average clustering coefficient of real networks is much higher than expected for a random network of similar N and L\n",
    "\n",
    "</span>"
   ]
  },
  {
   "cell_type": "markdown",
   "metadata": {},
   "source": [
    "\n",
    "* *WS edition*\n",
    "\n",
    "<span style=\"color:#4DA6FF\">\n",
    "\n",
    "> * First, let's use `networkx` to play around with WS graphs. Use `nx.watts_strogatz_graph` to generate 3 graphs with 500 nodes each, average degree = 4, and rewiring probablity $p = 0, 0.1,$ and  $1$. Calculate the average shortest path length $\\langle d \\rangle$ for each one. \n",
    "> * Describe what happens to the network when $p = 1$.\n",
    "> * Generate a lot of networks with different values of $p$. You will notice that paths are short when $p$ is close to one and they are long when $p = 0$. What's the value of $p$ for which the average shortest path length gets close to the short paths we find in a fully randomized network.\n",
    "> * Let's investigate this behavior in detail. Generate 50 networks with $N = 500$, $\\langle k \\rangle = 4$, for each of $p = \\{0, 0.01, 0.03, 0.05, 0.1, 0.2\\}$. Calculate the average of $\\langle d \\rangle$ as well as the standard deviation over the 50 networks, to create a plot that shows how the path length decreases very quickly with only a little fraction of re-wiring. Use the standard deviation to add [errorbars](https://matplotlib.org/stable/api/_as_gen/matplotlib.pyplot.errorbar.html) to the plot. My version of the plot is below (since a picture's worth 1000 words).\n",
    "> * Imagine that you put this plot in an assignment. Write a figure caption that explains to the reader what the plot shows (which variables, etc) and what's interesting about it.\n",
    "\n",
    "</span>"
   ]
  },
  {
   "cell_type": "markdown",
   "metadata": {},
   "source": [
    "\n",
    "And from **Part 2**\n",
    "\n",
    "* *BA Edition*.\n",
    "  * **Note**: The second part of this exercise (after the questions to the text) first has you build a BA network step-by-step, but doesn't ask any questions. For that part, I would simply like you to write well-documented code that shows how you build the network. \n"
   ]
  },
  {
   "cell_type": "markdown",
   "metadata": {},
   "source": [
    "# Assignment 1.2: Stats and visualization of the Rock Music Network\n",
    "\n",
    "This second part requires you to have built the network of Rock Musicians as described in the exercises for Week 4. You should complete the following exercise from **Part 2**.\n",
    "\n",
    "* *Explain your process in words*\n",
    "\n",
    "* *Simple network statistics and analysis*.\n",
    "\n",
    "  * **Note related to this and the following exercise**. It is nice to have the dataset underlying the statistics and visualization available when we grade. Therefore, I recommend that you create a small *network dataset*, which is simply your graph stored in some format that you like (since it's only a few hundred nodes and a few thousand edges, it won't take up a lot of space). You can then place that network one of your group members' GitHub account (or some other server that's available online) and have your Jupyter Notebook fetch that dataset when it runs. (It's OK to use an LLM for help with setting this up, if it seems difficult). \n",
    "\n",
    "And the following exercise from **Part 3**\n",
    "\n",
    "* *Let's build a simple visualization of the network*\n",
    "\n",
    "And that's it! You're all set."
   ]
  },
  {
   "cell_type": "code",
   "execution_count": null,
   "metadata": {},
   "outputs": [],
   "source": []
  }
 ],
 "metadata": {
  "anaconda-cloud": {},
  "kernelspec": {
   "display_name": "Python 3 (ipykernel)",
   "language": "python",
   "name": "python3"
  },
  "language_info": {
   "codemirror_mode": {
    "name": "ipython",
    "version": 3
   },
   "file_extension": ".py",
   "mimetype": "text/x-python",
   "name": "python",
   "nbconvert_exporter": "python",
   "pygments_lexer": "ipython3",
   "version": "3.13.5"
  }
 },
 "nbformat": 4,
 "nbformat_minor": 4
}
